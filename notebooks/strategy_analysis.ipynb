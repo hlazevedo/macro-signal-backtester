{
 "cells": [
  {
   "cell_type": "markdown",
   "metadata": {},
   "source": [
    "# Macro Signal Strategy Analysis\n",
    "\n",
    "This notebook provides interactive analysis of macro trading strategies."
   ]
  },
  {
   "cell_type": "code",
   "execution_count": null,
   "metadata": {},
   "outputs": [],
   "source": [
    "# Setup\n",
    "import sys\n",
    "sys.path.append('..')\n",
    "\n",
    "import pandas as pd\n",
    "import numpy as np\n",
    "import matplotlib.pyplot as plt\n",
    "import seaborn as sns\n",
    "import yaml\n",
    "\n",
    "from src.data.macro_data_loader import MacroDataLoader\n",
    "from src.data.asset_price_loader import AssetPriceLoader\n",
    "from src.signals.yield_curve_signal import YieldCurveSignal\n",
    "from src.backtest.performance import PerformanceAnalyzer\n",
    "\n",
    "# Set style\n",
    "plt.style.use('seaborn-v0_8')\n",
    "%matplotlib inline"
   ]
  },
  {
   "cell_type": "code",
   "execution_count": null,
   "metadata": {},
   "outputs": [],
   "source": [
    "# Load configuration\n",
    "with open('../config/config.yaml', 'r') as f:\n",
    "    config = yaml.safe_load(f)\n",
    "\n",
    "# Initialize data loaders\n",
    "macro_loader = MacroDataLoader(fred_api_key=config['data']['fred_api_key'])\n",
    "asset_loader = AssetPriceLoader()"
   ]
  },
  {
   "cell_type": "markdown",
   "metadata": {},
   "source": [
    "## 1. Macro Data Analysis"
   ]
  },
  {
   "cell_type": "code",
   "execution_count": null,
   "metadata": {},
   "outputs": [],
   "source": [
    "# Fetch macro data\n",
    "start_date = \"2010-01-01\"\n",
    "end_date = \"2023-12-31\"\n",
    "\n",
    "macro_data = macro_loader.fetch_multiple_series(\n",
    "    ['yield_10y', 'yield_2y', 'cpi', 'gdp'], \n",
    "    start_date, \n",
    "    end_date\n",
    ")"
   ]
  },
  {
   "cell_type": "code",
   "execution_count": null,
   "metadata": {},
   "outputs": [],
   "source": [
    "# Plot yield curve\n",
    "fig, ax = plt.subplots(figsize=(12, 6))\n",
    "\n",
    "spread = macro_data['yield_10y'] - macro_data['yield_2y']\n",
    "spread.plot(ax=ax, label='10Y-2Y Spread')\n",
    "\n",
    "ax.axhline(y=0, color='red', linestyle='--', alpha=0.7)\n",
    "ax.set_title('Yield Curve Slope Over Time')\n",
    "ax.set_ylabel('Spread (%)')\n",
    "ax.legend()\n",
    "plt.tight_layout()\n",
    "plt.show()"
   ]
  },
  {
   "cell_type": "markdown",
   "metadata": {},
   "source": [
    "## 2. Signal Analysis"
   ]
  },
  {
   "cell_type": "code",
   "execution_count": null,
   "metadata": {},
   "outputs": [],
   "source": [
    "# Generate yield curve signal\n",
    "yield_signal = YieldCurveSignal()\n",
    "signal_values = yield_signal.generate_signal(macro_data)\n",
    "\n",
    "# Plot signal\n",
    "fig, (ax1, ax2) = plt.subplots(2, 1, figsize=(12, 10), sharex=True)\n",
    "\n",
    "# Raw spread\n",
    "spread.plot(ax=ax1, label='Raw Spread')\n",
    "ax1.set_ylabel('Spread (%)')\n",
    "ax1.set_title('Yield Curve Spread')\n",
    "ax1.legend()\n",
    "\n",
    "# Normalized signal\n",
    "signal_values.plot(ax=ax2, label='Normalized Signal', color='green')\n",
    "ax2.axhline(y=0, color='red', linestyle='--', alpha=0.7)\n",
    "ax2.axhline(y=0.5, color='orange', linestyle=':', alpha=0.5)\n",
    "ax2.axhline(y=-0.5, color='orange', linestyle=':', alpha=0.5)\n",
    "ax2.set_ylabel('Signal Value')\n",
    "ax2.set_title('Normalized Trading Signal')\n",
    "ax2.legend()\n",
    "\n",
    "plt.tight_layout()\n",
    "plt.show()"
   ]
  },
  {
   "cell_type": "markdown",
   "metadata": {},
   "source": [
    "## 3. Asset Performance Analysis"
   ]
  },
  {
   "cell_type": "code",
   "execution_count": null,
   "metadata": {},
   "outputs": [],
   "source": [
    "# Fetch asset prices\n",
    "assets = ['SPY', 'TLT', 'GLD']\n",
    "price_data = asset_loader.fetch_multiple_assets(assets, start_date, end_date)\n",
    "\n",
    "# Calculate returns\n",
    "returns = asset_loader.calculate_returns(price_data)\n",
    "\n",
    "# Plot cumulative returns\n",
    "cumulative_returns = (1 + returns).cumprod()\n",
    "\n",
    "fig, ax = plt.subplots(figsize=(12, 6))\n",
    "cumulative_returns.plot(ax=ax)\n",
    "ax.set_title('Cumulative Returns by Asset')\n",
    "ax.set_ylabel('Cumulative Return')\n",
    "ax.legend()\n",
    "plt.tight_layout()\n",
    "plt.show()"
   ]
  },
  {
   "cell_type": "markdown",
   "metadata": {},
   "source": [
    "## 4. Correlation Analysis"
   ]
  },
  {
   "cell_type": "code",
   "execution_count": null,
   "metadata": {},
   "outputs": [],
   "source": [
    "# Create correlation matrix\n",
    "# Align signal data with returns\n",
    "aligned_signal = signal_values.reindex(returns.index, method='ffill')\n",
    "\n",
    "# Combine for correlation\n",
    "combined_data = pd.concat([\n",
    "    returns,\n",
    "    aligned_signal.to_frame('yield_signal')\n",
    "], axis=1)\n",
    "\n",
    "# Calculate correlation\n",
    "correlation_matrix = combined_data.corr()\n",
    "\n",
    "# Plot heatmap\n",
    "fig, ax = plt.subplots(figsize=(10, 8))\n",
    "sns.heatmap(correlation_matrix, annot=True, cmap='coolwarm', center=0,\n",
    "            square=True, linewidths=1, cbar_kws={\"shrink\": 0.8})\n",
    "ax.set_title('Correlation Matrix: Assets and Signal')\n",
    "plt.tight_layout()\n",
    "plt.show()"
   ]
  },
  {
   "cell_type": "markdown",
   "metadata": {},
   "source": [
    "## 5. Rolling Performance Analysis"
   ]
  },
  {
   "cell_type": "code",
   "execution_count": null,
   "metadata": {},
   "outputs": [],
   "source": [
    "# Calculate rolling Sharpe ratios\n",
    "window = 252  # 1 year\n",
    "\n",
    "rolling_sharpe = returns.rolling(window).apply(\n",
    "    lambda x: (x.mean() / x.std()) * np.sqrt(252) if x.std() != 0 else 0\n",
    ")\n",
    "\n",
    "fig, ax = plt.subplots(figsize=(12, 6))\n",
    "rolling_sharpe.plot(ax=ax)\n",
    "ax.set_title(f'{window}-Day Rolling Sharpe Ratio')\n",
    "ax.set_ylabel('Sharpe Ratio')\n",
    "ax.axhline(y=0, color='black', linestyle='-', alpha=0.3)\n",
    "ax.legend()\n",
    "plt.tight_layout()\n",
    "plt.show()"
   ]
  }
 ],
 "metadata": {
  "kernelspec": {
   "display_name": "Python 3",
   "language": "python",
   "name": "python3"
  },
  "language_info": {
   "codemirror_mode": {
    "name": "ipython",
    "version": 3
   },
   "file_extension": ".py",
   "mimetype": "text/x-python",
   "name": "python",
   "nbconvert_exporter": "python",
   "pygments_lexer": "ipython3",
   "version": "3.8.0"
  }
 },
 "nbformat": 4,
 "nbformat_minor": 4
}
